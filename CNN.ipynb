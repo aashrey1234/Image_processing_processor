{
  "nbformat": 4,
  "nbformat_minor": 0,
  "metadata": {
    "colab": {
      "provenance": [],
      "gpuType": "T4",
      "include_colab_link": true
    },
    "kernelspec": {
      "name": "python3",
      "display_name": "Python 3"
    },
    "language_info": {
      "name": "python"
    },
    "accelerator": "GPU"
  },
  "cells": [
    {
      "cell_type": "markdown",
      "metadata": {
        "id": "view-in-github",
        "colab_type": "text"
      },
      "source": [
        "<a href=\"https://colab.research.google.com/github/aashrey1234/Image_processing_processor/blob/main/CNN.ipynb\" target=\"_parent\"><img src=\"https://colab.research.google.com/assets/colab-badge.svg\" alt=\"Open In Colab\"/></a>"
      ]
    },
    {
      "cell_type": "code",
      "execution_count": null,
      "metadata": {
        "id": "7PC8WlhngLss"
      },
      "outputs": [],
      "source": [
        "import torch\n",
        "import torch.nn as nn\n",
        "import torch.nn.functional as F\n",
        "from torch.utils.data import DataLoader\n",
        "from torchvision import datasets, transforms\n",
        "from torchvision.utils import make_grid\n",
        "\n",
        "import numpy as np\n",
        "import pandas as pd\n",
        "from sklearn.metrics import confusion_matrix\n",
        "import matplotlib.pyplot as plt\n",
        "%matplotlib inline"
      ]
    },
    {
      "cell_type": "code",
      "source": [
        "#convert MNIST image files into a Tensor of 4-dims\n",
        "transform = transforms.ToTensor()\n"
      ],
      "metadata": {
        "id": "MZgqyofchpyE"
      },
      "execution_count": null,
      "outputs": []
    },
    {
      "cell_type": "code",
      "source": [
        "#Train Data\n",
        "Train_data = datasets.MNIST(root='/cnn_data', train=True, download=True, transform=transform)"
      ],
      "metadata": {
        "colab": {
          "base_uri": "https://localhost:8080/"
        },
        "id": "Yvxov_oFh6JG",
        "outputId": "fc635823-fec0-4b37-fa06-8c9764838fbe"
      },
      "execution_count": null,
      "outputs": [
        {
          "output_type": "stream",
          "name": "stdout",
          "text": [
            "Downloading http://yann.lecun.com/exdb/mnist/train-images-idx3-ubyte.gz\n",
            "Failed to download (trying next):\n",
            "HTTP Error 403: Forbidden\n",
            "\n",
            "Downloading https://ossci-datasets.s3.amazonaws.com/mnist/train-images-idx3-ubyte.gz\n",
            "Downloading https://ossci-datasets.s3.amazonaws.com/mnist/train-images-idx3-ubyte.gz to /cnn_data/MNIST/raw/train-images-idx3-ubyte.gz\n"
          ]
        },
        {
          "output_type": "stream",
          "name": "stderr",
          "text": [
            "100%|██████████| 9912422/9912422 [00:02<00:00, 4907367.86it/s]\n"
          ]
        },
        {
          "output_type": "stream",
          "name": "stdout",
          "text": [
            "Extracting /cnn_data/MNIST/raw/train-images-idx3-ubyte.gz to /cnn_data/MNIST/raw\n",
            "\n",
            "Downloading http://yann.lecun.com/exdb/mnist/train-labels-idx1-ubyte.gz\n",
            "Failed to download (trying next):\n",
            "HTTP Error 403: Forbidden\n",
            "\n",
            "Downloading https://ossci-datasets.s3.amazonaws.com/mnist/train-labels-idx1-ubyte.gz\n",
            "Downloading https://ossci-datasets.s3.amazonaws.com/mnist/train-labels-idx1-ubyte.gz to /cnn_data/MNIST/raw/train-labels-idx1-ubyte.gz\n"
          ]
        },
        {
          "output_type": "stream",
          "name": "stderr",
          "text": [
            "100%|██████████| 28881/28881 [00:00<00:00, 158385.61it/s]\n"
          ]
        },
        {
          "output_type": "stream",
          "name": "stdout",
          "text": [
            "Extracting /cnn_data/MNIST/raw/train-labels-idx1-ubyte.gz to /cnn_data/MNIST/raw\n",
            "\n",
            "Downloading http://yann.lecun.com/exdb/mnist/t10k-images-idx3-ubyte.gz\n",
            "Failed to download (trying next):\n",
            "HTTP Error 403: Forbidden\n",
            "\n",
            "Downloading https://ossci-datasets.s3.amazonaws.com/mnist/t10k-images-idx3-ubyte.gz\n",
            "Downloading https://ossci-datasets.s3.amazonaws.com/mnist/t10k-images-idx3-ubyte.gz to /cnn_data/MNIST/raw/t10k-images-idx3-ubyte.gz\n"
          ]
        },
        {
          "output_type": "stream",
          "name": "stderr",
          "text": [
            "100%|██████████| 1648877/1648877 [00:01<00:00, 1493160.93it/s]\n"
          ]
        },
        {
          "output_type": "stream",
          "name": "stdout",
          "text": [
            "Extracting /cnn_data/MNIST/raw/t10k-images-idx3-ubyte.gz to /cnn_data/MNIST/raw\n",
            "\n",
            "Downloading http://yann.lecun.com/exdb/mnist/t10k-labels-idx1-ubyte.gz\n",
            "Failed to download (trying next):\n",
            "HTTP Error 403: Forbidden\n",
            "\n",
            "Downloading https://ossci-datasets.s3.amazonaws.com/mnist/t10k-labels-idx1-ubyte.gz\n",
            "Downloading https://ossci-datasets.s3.amazonaws.com/mnist/t10k-labels-idx1-ubyte.gz to /cnn_data/MNIST/raw/t10k-labels-idx1-ubyte.gz\n"
          ]
        },
        {
          "output_type": "stream",
          "name": "stderr",
          "text": [
            "100%|██████████| 4542/4542 [00:00<00:00, 1402320.85it/s]"
          ]
        },
        {
          "output_type": "stream",
          "name": "stdout",
          "text": [
            "Extracting /cnn_data/MNIST/raw/t10k-labels-idx1-ubyte.gz to /cnn_data/MNIST/raw\n",
            "\n"
          ]
        },
        {
          "output_type": "stream",
          "name": "stderr",
          "text": [
            "\n"
          ]
        }
      ]
    },
    {
      "cell_type": "code",
      "source": [
        "#test Data\n",
        "Test_data = datasets.MNIST(root='/cnn_data', train=False, download=True, transform=transform)"
      ],
      "metadata": {
        "id": "gghTNFK-ifGh"
      },
      "execution_count": null,
      "outputs": []
    },
    {
      "cell_type": "code",
      "source": [
        "Test_data\n",
        "Train_data"
      ],
      "metadata": {
        "colab": {
          "base_uri": "https://localhost:8080/"
        },
        "id": "RvrXpkTdiwrV",
        "outputId": "aa16500a-d9a7-4574-8881-f8f8d07c89a1"
      },
      "execution_count": null,
      "outputs": [
        {
          "output_type": "execute_result",
          "data": {
            "text/plain": [
              "Dataset MNIST\n",
              "    Number of datapoints: 60000\n",
              "    Root location: /cnn_data\n",
              "    Split: Train\n",
              "    StandardTransform\n",
              "Transform: ToTensor()"
            ]
          },
          "metadata": {},
          "execution_count": 6
        }
      ]
    },
    {
      "cell_type": "code",
      "source": [
        "train_loader = DataLoader(Train_data, batch_size=10, shuffle=True)\n",
        "test_loader = DataLoader(Test_data, batch_size=10, shuffle=True)"
      ],
      "metadata": {
        "id": "KSLVmI-kje-y"
      },
      "execution_count": null,
      "outputs": []
    },
    {
      "cell_type": "code",
      "source": [
        "conv1 = nn.Conv2d(1, 6, 3, 1)\n",
        "conv2 = nn.Conv2d(6, 16, 3, 1)\n"
      ],
      "metadata": {
        "id": "nQerRMyI53XV"
      },
      "execution_count": null,
      "outputs": []
    },
    {
      "cell_type": "code",
      "source": [
        "#grab 1 MNIST record/image\n",
        "for i, (x_train, y_train) in enumerate(Train_data):\n",
        "  break"
      ],
      "metadata": {
        "id": "8_5PCjHA6dOo"
      },
      "execution_count": null,
      "outputs": []
    },
    {
      "cell_type": "code",
      "source": [
        "x_train.shape"
      ],
      "metadata": {
        "colab": {
          "base_uri": "https://localhost:8080/"
        },
        "id": "z4_w9Aka65jO",
        "outputId": "c0af572e-4bc1-46a0-e635-0b0b72e8a387"
      },
      "execution_count": null,
      "outputs": [
        {
          "output_type": "execute_result",
          "data": {
            "text/plain": [
              "torch.Size([1, 28, 28])"
            ]
          },
          "metadata": {},
          "execution_count": 10
        }
      ]
    },
    {
      "cell_type": "code",
      "source": [
        "x = x_train.view(1,1,28,28)"
      ],
      "metadata": {
        "id": "qSouYJtI7EOu"
      },
      "execution_count": null,
      "outputs": []
    },
    {
      "cell_type": "code",
      "source": [
        "x = F.relu(conv1(x))"
      ],
      "metadata": {
        "id": "zz5D9TCQ7Osv"
      },
      "execution_count": null,
      "outputs": []
    },
    {
      "cell_type": "code",
      "source": [
        "x.shape"
      ],
      "metadata": {
        "colab": {
          "base_uri": "https://localhost:8080/"
        },
        "id": "I4Fpwk1W7ani",
        "outputId": "c65726d8-ff8c-401d-a015-00a0706faed7"
      },
      "execution_count": null,
      "outputs": [
        {
          "output_type": "execute_result",
          "data": {
            "text/plain": [
              "torch.Size([1, 6, 26, 26])"
            ]
          },
          "metadata": {},
          "execution_count": 13
        }
      ]
    },
    {
      "cell_type": "code",
      "source": [
        "x = F.max_pool2d(x,2,2)"
      ],
      "metadata": {
        "id": "zLqN0yLN8Ads"
      },
      "execution_count": null,
      "outputs": []
    },
    {
      "cell_type": "code",
      "source": [
        "x.shape"
      ],
      "metadata": {
        "colab": {
          "base_uri": "https://localhost:8080/"
        },
        "id": "F3Kl7JT88bqv",
        "outputId": "42059d9e-eb6d-457e-e7f5-444c9e9e7c07"
      },
      "execution_count": null,
      "outputs": [
        {
          "output_type": "execute_result",
          "data": {
            "text/plain": [
              "torch.Size([1, 6, 13, 13])"
            ]
          },
          "metadata": {},
          "execution_count": 15
        }
      ]
    },
    {
      "cell_type": "code",
      "source": [
        "x = F.relu(conv2(x))"
      ],
      "metadata": {
        "id": "J-MDujxB8gzq"
      },
      "execution_count": null,
      "outputs": []
    },
    {
      "cell_type": "code",
      "source": [
        "x.shape"
      ],
      "metadata": {
        "colab": {
          "base_uri": "https://localhost:8080/"
        },
        "id": "uzzZQ4wV853u",
        "outputId": "3c4a034a-1903-4b8f-eabe-46fdd2112e75"
      },
      "execution_count": null,
      "outputs": [
        {
          "output_type": "execute_result",
          "data": {
            "text/plain": [
              "torch.Size([1, 16, 11, 11])"
            ]
          },
          "metadata": {},
          "execution_count": 17
        }
      ]
    },
    {
      "cell_type": "code",
      "source": [
        "x = F.max_pool2d(x,2,2)"
      ],
      "metadata": {
        "id": "lhM7iGBr88hS"
      },
      "execution_count": null,
      "outputs": []
    },
    {
      "cell_type": "code",
      "source": [
        "x.shape"
      ],
      "metadata": {
        "colab": {
          "base_uri": "https://localhost:8080/"
        },
        "id": "zDLJ5JCl9LpK",
        "outputId": "0c34cc25-e068-4073-b836-ebccb5721a27"
      },
      "execution_count": null,
      "outputs": [
        {
          "output_type": "execute_result",
          "data": {
            "text/plain": [
              "torch.Size([1, 16, 5, 5])"
            ]
          },
          "metadata": {},
          "execution_count": 19
        }
      ]
    },
    {
      "cell_type": "code",
      "source": [
        "class ConvolutionalNetwork(nn.Module):\n",
        "  def __init__(self):\n",
        "    super().__init__()\n",
        "    self.conv1 = nn.Conv2d(1, 6, 3, 1)\n",
        "    self.conv2 = nn.Conv2d(6, 16, 3, 1)\n",
        "    #Fully connceted layer\n",
        "    self.fc1 = nn.Linear(5*5*16, 128)\n",
        "    self.fc2 = nn.Linear(128, 84)\n",
        "    self.fc3 = nn.Linear(84,10)\n",
        "\n",
        "  def forward(self, x):\n",
        "    x = F.relu(self.conv1(x))\n",
        "    x = F.max_pool2d(x,2,2)\n",
        "\n",
        "    x = F.relu(self.conv2(x))\n",
        "    x = F.max_pool2d(x,2,2)\n",
        "\n",
        "    x = x.view(-1, 16*5*5)\n",
        "\n",
        "    x = F.relu(self.fc1(x))\n",
        "    x = F.relu(self.fc2(x))\n",
        "    x = self.fc3(x)\n",
        "    return F.log_softmax(x,dim=1)"
      ],
      "metadata": {
        "id": "HihqEzYD9OLw"
      },
      "execution_count": null,
      "outputs": []
    },
    {
      "cell_type": "code",
      "source": [
        "torch.manual_seed(41)\n",
        "model = ConvolutionalNetwork()\n",
        "model"
      ],
      "metadata": {
        "colab": {
          "base_uri": "https://localhost:8080/"
        },
        "id": "zdnh-M3RJPCT",
        "outputId": "40a2aca8-a93e-475c-818c-3648ca2f0159"
      },
      "execution_count": null,
      "outputs": [
        {
          "output_type": "execute_result",
          "data": {
            "text/plain": [
              "ConvolutionalNetwork(\n",
              "  (conv1): Conv2d(1, 6, kernel_size=(3, 3), stride=(1, 1))\n",
              "  (conv2): Conv2d(6, 16, kernel_size=(3, 3), stride=(1, 1))\n",
              "  (fc1): Linear(in_features=400, out_features=128, bias=True)\n",
              "  (fc2): Linear(in_features=128, out_features=84, bias=True)\n",
              "  (fc3): Linear(in_features=84, out_features=10, bias=True)\n",
              ")"
            ]
          },
          "metadata": {},
          "execution_count": 27
        }
      ]
    },
    {
      "cell_type": "code",
      "source": [
        "criterion = nn.CrossEntropyLoss()\n",
        "optimizer = torch.optim.Adam(model.parameters(), lr=0.001)"
      ],
      "metadata": {
        "id": "sAr5LL2wJauQ"
      },
      "execution_count": null,
      "outputs": []
    },
    {
      "cell_type": "code",
      "source": [
        "import time\n",
        "start_time = time.time()\n",
        "\n",
        "epochs = 5\n",
        "train_losses = []\n",
        "test_losses = []\n",
        "train_correct = []\n",
        "test_correct = []\n",
        "\n",
        "for i in range(epochs):\n",
        "  trn_corr = 0\n",
        "  tst_corr = 0\n",
        "\n",
        "  for b,(x_train, y_train) in enumerate(train_loader):\n",
        "     b+=1\n",
        "     y_pred = model(x_train)\n",
        "     loss = criterion(y_pred, y_train)\n",
        "\n",
        "     predicted = torch.max(y_pred.data, 1)[1]\n",
        "     batch_corr = (predicted == y_train).sum()\n",
        "     trn_corr += batch_corr\n",
        "\n",
        "     optimizer.zero_grad()\n",
        "     loss.backward()\n",
        "     optimizer.step()\n",
        "\n",
        "     if b%600 == 0:\n",
        "      print(f'Epoch: {1} Batch: {b} Loss: {loss.item()}')\n",
        "\n",
        "  train_losses.append(loss)\n",
        "  train_correct.append(trn_corr)\n",
        "\n",
        "#test\n",
        "  with torch.no_grad():\n",
        "    for b,(x_test, y_test) in enumerate(test_loader):\n",
        "      y_val = model(x_test)\n",
        "      predicted = torch.max(y_val.data, 1)[1]\n",
        "      tst_corr += (predicted == y_test).sum()\n",
        "\n",
        "  loss = criterion(y_val, y_test)\n",
        "  test_losses.append(loss)\n",
        "  test_correct.append(tst_corr)\n",
        "\n",
        "current_time = time.time()\n",
        "total = current_time - start_time\n",
        "print(f'Training took: {total/60} minutes')"
      ],
      "metadata": {
        "colab": {
          "base_uri": "https://localhost:8080/"
        },
        "id": "QjSX0mZhJ-zz",
        "outputId": "b94b7210-f7a4-4a07-8700-33addd2e4b3a"
      },
      "execution_count": null,
      "outputs": [
        {
          "output_type": "stream",
          "name": "stdout",
          "text": [
            "Epoch: 1 Batch: 600 Loss: 0.0028921503107994795\n",
            "Epoch: 1 Batch: 1200 Loss: 0.03422710672020912\n",
            "Epoch: 1 Batch: 1800 Loss: 0.03873512148857117\n",
            "Epoch: 1 Batch: 2400 Loss: 0.0011605009203776717\n",
            "Epoch: 1 Batch: 3000 Loss: 0.06957758218050003\n",
            "Epoch: 1 Batch: 3600 Loss: 0.029552632942795753\n",
            "Epoch: 1 Batch: 4200 Loss: 0.35484421253204346\n",
            "Epoch: 1 Batch: 4800 Loss: 0.004328816197812557\n",
            "Epoch: 1 Batch: 5400 Loss: 0.15072283148765564\n",
            "Epoch: 1 Batch: 6000 Loss: 0.03788895905017853\n",
            "Epoch: 1 Batch: 600 Loss: 0.030008193105459213\n",
            "Epoch: 1 Batch: 1200 Loss: 0.004662970546633005\n",
            "Epoch: 1 Batch: 1800 Loss: 0.0023981723934412003\n",
            "Epoch: 1 Batch: 2400 Loss: 0.0016593055333942175\n",
            "Epoch: 1 Batch: 3000 Loss: 0.000521154492162168\n",
            "Epoch: 1 Batch: 3600 Loss: 0.01396896131336689\n",
            "Epoch: 1 Batch: 4200 Loss: 0.01016187109053135\n",
            "Epoch: 1 Batch: 4800 Loss: 0.00029107328737154603\n",
            "Epoch: 1 Batch: 5400 Loss: 0.0004858341417275369\n",
            "Epoch: 1 Batch: 6000 Loss: 0.16033923625946045\n",
            "Epoch: 1 Batch: 600 Loss: 0.00019322267326060683\n",
            "Epoch: 1 Batch: 1200 Loss: 0.009532434865832329\n",
            "Epoch: 1 Batch: 1800 Loss: 0.0017742747440934181\n",
            "Epoch: 1 Batch: 2400 Loss: 0.00015663326485082507\n",
            "Epoch: 1 Batch: 3000 Loss: 0.00019528312259353697\n",
            "Epoch: 1 Batch: 3600 Loss: 0.00018639533664099872\n",
            "Epoch: 1 Batch: 4200 Loss: 0.0001627442252356559\n",
            "Epoch: 1 Batch: 4800 Loss: 0.0008513120119459927\n",
            "Epoch: 1 Batch: 5400 Loss: 0.007976939901709557\n",
            "Epoch: 1 Batch: 6000 Loss: 0.003046585712581873\n",
            "Epoch: 1 Batch: 600 Loss: 0.0004968782886862755\n",
            "Epoch: 1 Batch: 1200 Loss: 0.0003503130574245006\n",
            "Epoch: 1 Batch: 1800 Loss: 9.775151283974992e-07\n",
            "Epoch: 1 Batch: 2400 Loss: 0.09363840520381927\n",
            "Epoch: 1 Batch: 3000 Loss: 0.002301483880728483\n",
            "Epoch: 1 Batch: 3600 Loss: 0.0004193900094833225\n",
            "Epoch: 1 Batch: 4200 Loss: 0.00015970761887729168\n",
            "Epoch: 1 Batch: 4800 Loss: 1.6378642612835392e-05\n",
            "Epoch: 1 Batch: 5400 Loss: 0.001246088882908225\n",
            "Epoch: 1 Batch: 6000 Loss: 0.0013186270371079445\n",
            "Epoch: 1 Batch: 600 Loss: 0.000587363145314157\n",
            "Epoch: 1 Batch: 1200 Loss: 0.00010662745626177639\n",
            "Epoch: 1 Batch: 1800 Loss: 1.474555301683722e-05\n",
            "Epoch: 1 Batch: 2400 Loss: 3.2305347303918097e-06\n",
            "Epoch: 1 Batch: 3000 Loss: 2.7619253160082735e-05\n",
            "Epoch: 1 Batch: 3600 Loss: 0.017318114638328552\n",
            "Epoch: 1 Batch: 4200 Loss: 0.0007989935693331063\n",
            "Epoch: 1 Batch: 4800 Loss: 9.673836029833183e-05\n",
            "Epoch: 1 Batch: 5400 Loss: 0.0013795372797176242\n",
            "Epoch: 1 Batch: 6000 Loss: 0.003368796780705452\n",
            "Training took: 3.1357898513476052 minutes\n"
          ]
        }
      ]
    },
    {
      "cell_type": "code",
      "source": [
        "plt.plot(train_losses, label='Training loss')\n",
        "plt.plot()"
      ],
      "metadata": {
        "id": "IG-zqdh6WQA8"
      },
      "execution_count": null,
      "outputs": []
    }
  ]
}